{
 "cells": [
  {
   "cell_type": "code",
   "execution_count": 1,
   "metadata": {},
   "outputs": [],
   "source": [
    "# pip3 insall torch\n",
    "# pip3 install transformers\n",
    "\n",
    "from transformers import pipeline, set_seed\n",
    "import torch"
   ]
  },
  {
   "cell_type": "code",
   "execution_count": 2,
   "metadata": {},
   "outputs": [
    {
     "name": "stdout",
     "output_type": "stream",
     "text": [
      "Using device: cuda\n"
     ]
    }
   ],
   "source": [
    "# set device to cuda else cpu\n",
    "device = torch.device(\"cuda\" if torch.cuda.is_available() else \"cpu\")\n",
    "print(\"Using device:\", device)"
   ]
  },
  {
   "cell_type": "code",
   "execution_count": 4,
   "metadata": {},
   "outputs": [
    {
     "name": "stderr",
     "output_type": "stream",
     "text": [
      "/home/hardk/.local/lib/python3.10/site-packages/transformers/generation/utils.py:1186: UserWarning: You have modified the pretrained model configuration to control generation. This is a deprecated strategy to control generation and will be removed soon, in a future version. Please use a generation configuration file (see https://huggingface.co/docs/transformers/main_classes/text_generation)\n",
      "  warnings.warn(\n",
      "Setting `pad_token_id` to `eos_token_id`:50256 for open-end generation.\n"
     ]
    },
    {
     "data": {
      "text/plain": [
       "[{'generated_text': \"Hello, how are you? I'm actually a professor at an American university… and I think you're an excellent student? OK. Thank you.\\n\\nThe second, to be fair, is to say, it's important that you have the\"},\n",
       " {'generated_text': 'Hello, how are you? What\\'s going on?! I want to see a boy from here!\"\\n\\n\"Hey, no, not a girl!\"\\n\\n\"I\\'d like a good look now, Princess! Even if my father says I'},\n",
       " {'generated_text': 'Hello, how are you?\\n\\nWhen would you like to play for me?\\n\\nHow many hours/days are you waiting for me?\\n\\nWhich of the following items was used most strongly in the past 6 months.\\n\\nI'},\n",
       " {'generated_text': \"Hello, how are you? I'm not really here to talk to you about problems. Is it hard? Or what? I'm going to write a little short article, so when you write to me and ask about the problem I will think of\"},\n",
       " {'generated_text': 'Hello, how are you? It\\'s like my father\\'s house! It\\'s so empty.\"\\n\\n\"Yes.\"\\n\\n\"If I look at it you can see that my father is sitting on his desk with his hands in his pockets.\"'}]"
      ]
     },
     "execution_count": 4,
     "metadata": {},
     "output_type": "execute_result"
    }
   ],
   "source": [
    "MAX_LENGTH = 50 \n",
    "NUM_OUTPUT_SENTENCES = 5\n",
    "SEED = 42\n",
    "\n",
    "\n",
    "generator = pipeline('text-generation', model='gpt2', tokenizer='gpt2')\n",
    "set_seed(SEED)\n",
    "generator(\"Hello, how are you?\", max_length=MAX_LENGTH, num_return_sequences=NUM_OUTPUT_SENTENCES)\n"
   ]
  },
  {
   "cell_type": "code",
   "execution_count": null,
   "metadata": {},
   "outputs": [],
   "source": []
  }
 ],
 "metadata": {
  "kernelspec": {
   "display_name": "Python 3",
   "language": "python",
   "name": "python3"
  },
  "language_info": {
   "codemirror_mode": {
    "name": "ipython",
    "version": 3
   },
   "file_extension": ".py",
   "mimetype": "text/x-python",
   "name": "python",
   "nbconvert_exporter": "python",
   "pygments_lexer": "ipython3",
   "version": "3.10.7"
  },
  "orig_nbformat": 4
 },
 "nbformat": 4,
 "nbformat_minor": 2
}
